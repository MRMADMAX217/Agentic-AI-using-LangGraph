{
 "cells": [
  {
   "cell_type": "code",
   "execution_count": 3,
   "id": "398994d2",
   "metadata": {},
   "outputs": [],
   "source": [
    "from langgraph.graph import StateGraph, START, END\n",
    "# from langchain_openai import ChatOpenAI\n",
    "from langchain_google_genai import ChatGoogleGenerativeAI\n",
    "from typing import TypedDict\n",
    "from dotenv import load_dotenv"
   ]
  },
  {
   "cell_type": "code",
   "execution_count": 4,
   "id": "228a154d",
   "metadata": {},
   "outputs": [
    {
     "name": "stdout",
     "output_type": "stream",
     "text": [
      "Requirement already satisfied: langchain-google-genai in e:\\main\\vs code\\langgraph\\lg\\lib\\site-packages (2.0.10)\n",
      "Requirement already satisfied: google-generativeai in e:\\main\\vs code\\langgraph\\lg\\lib\\site-packages (0.8.5)\n",
      "Requirement already satisfied: pydantic<3,>=2 in e:\\main\\vs code\\langgraph\\lg\\lib\\site-packages (from langchain-google-genai) (2.11.9)\n",
      "Requirement already satisfied: langchain-core<0.4.0,>=0.3.37 in e:\\main\\vs code\\langgraph\\lg\\lib\\site-packages (from langchain-google-genai) (0.3.76)\n",
      "Requirement already satisfied: filetype<2.0.0,>=1.2.0 in e:\\main\\vs code\\langgraph\\lg\\lib\\site-packages (from langchain-google-genai) (1.2.0)\n",
      "Requirement already satisfied: google-auth>=2.15.0 in e:\\main\\vs code\\langgraph\\lg\\lib\\site-packages (from google-generativeai) (2.40.3)\n",
      "Requirement already satisfied: google-ai-generativelanguage==0.6.15 in e:\\main\\vs code\\langgraph\\lg\\lib\\site-packages (from google-generativeai) (0.6.15)\n",
      "Requirement already satisfied: google-api-python-client in e:\\main\\vs code\\langgraph\\lg\\lib\\site-packages (from google-generativeai) (2.183.0)\n",
      "Requirement already satisfied: tqdm in e:\\main\\vs code\\langgraph\\lg\\lib\\site-packages (from google-generativeai) (4.67.1)\n",
      "Requirement already satisfied: typing-extensions in e:\\main\\vs code\\langgraph\\lg\\lib\\site-packages (from google-generativeai) (4.15.0)\n",
      "Requirement already satisfied: google-api-core in e:\\main\\vs code\\langgraph\\lg\\lib\\site-packages (from google-generativeai) (2.25.1)\n",
      "Requirement already satisfied: protobuf in e:\\main\\vs code\\langgraph\\lg\\lib\\site-packages (from google-generativeai) (5.29.5)\n",
      "Requirement already satisfied: proto-plus<2.0.0dev,>=1.22.3 in e:\\main\\vs code\\langgraph\\lg\\lib\\site-packages (from google-ai-generativelanguage==0.6.15->google-generativeai) (1.26.1)\n",
      "Requirement already satisfied: cachetools<6.0,>=2.0.0 in e:\\main\\vs code\\langgraph\\lg\\lib\\site-packages (from google-auth>=2.15.0->google-generativeai) (5.5.2)\n",
      "Requirement already satisfied: pyasn1-modules>=0.2.1 in e:\\main\\vs code\\langgraph\\lg\\lib\\site-packages (from google-auth>=2.15.0->google-generativeai) (0.4.2)\n",
      "Requirement already satisfied: rsa<5,>=3.1.4 in e:\\main\\vs code\\langgraph\\lg\\lib\\site-packages (from google-auth>=2.15.0->google-generativeai) (4.9.1)\n",
      "Requirement already satisfied: PyYAML>=5.3 in e:\\main\\vs code\\langgraph\\lg\\lib\\site-packages (from langchain-core<0.4.0,>=0.3.37->langchain-google-genai) (6.0.2)\n",
      "Requirement already satisfied: tenacity!=8.4.0,<10.0.0,>=8.1.0 in e:\\main\\vs code\\langgraph\\lg\\lib\\site-packages (from langchain-core<0.4.0,>=0.3.37->langchain-google-genai) (9.1.2)\n",
      "Requirement already satisfied: langsmith>=0.3.45 in e:\\main\\vs code\\langgraph\\lg\\lib\\site-packages (from langchain-core<0.4.0,>=0.3.37->langchain-google-genai) (0.4.30)\n",
      "Requirement already satisfied: jsonpatch<2.0,>=1.33 in e:\\main\\vs code\\langgraph\\lg\\lib\\site-packages (from langchain-core<0.4.0,>=0.3.37->langchain-google-genai) (1.33)\n",
      "Requirement already satisfied: packaging>=23.2 in e:\\main\\vs code\\langgraph\\lg\\lib\\site-packages (from langchain-core<0.4.0,>=0.3.37->langchain-google-genai) (25.0)\n",
      "Requirement already satisfied: annotated-types>=0.6.0 in e:\\main\\vs code\\langgraph\\lg\\lib\\site-packages (from pydantic<3,>=2->langchain-google-genai) (0.7.0)\n",
      "Requirement already satisfied: pydantic-core==2.33.2 in e:\\main\\vs code\\langgraph\\lg\\lib\\site-packages (from pydantic<3,>=2->langchain-google-genai) (2.33.2)\n",
      "Requirement already satisfied: typing-inspection>=0.4.0 in e:\\main\\vs code\\langgraph\\lg\\lib\\site-packages (from pydantic<3,>=2->langchain-google-genai) (0.4.1)\n",
      "Requirement already satisfied: googleapis-common-protos<2.0.0,>=1.56.2 in e:\\main\\vs code\\langgraph\\lg\\lib\\site-packages (from google-api-core->google-generativeai) (1.70.0)\n",
      "Requirement already satisfied: requests<3.0.0,>=2.18.0 in e:\\main\\vs code\\langgraph\\lg\\lib\\site-packages (from google-api-core->google-generativeai) (2.32.5)\n",
      "Requirement already satisfied: httplib2<1.0.0,>=0.19.0 in e:\\main\\vs code\\langgraph\\lg\\lib\\site-packages (from google-api-python-client->google-generativeai) (0.31.0)\n",
      "Requirement already satisfied: uritemplate<5,>=3.0.1 in e:\\main\\vs code\\langgraph\\lg\\lib\\site-packages (from google-api-python-client->google-generativeai) (4.2.0)\n",
      "Requirement already satisfied: google-auth-httplib2<1.0.0,>=0.2.0 in e:\\main\\vs code\\langgraph\\lg\\lib\\site-packages (from google-api-python-client->google-generativeai) (0.2.0)\n",
      "Requirement already satisfied: colorama in e:\\main\\vs code\\langgraph\\lg\\lib\\site-packages (from tqdm->google-generativeai) (0.4.6)\n",
      "Requirement already satisfied: grpcio-status<2.0.0,>=1.33.2 in e:\\main\\vs code\\langgraph\\lg\\lib\\site-packages (from google-api-core->google-generativeai) (1.71.2)\n",
      "Requirement already satisfied: grpcio<2.0.0,>=1.33.2 in e:\\main\\vs code\\langgraph\\lg\\lib\\site-packages (from google-api-core->google-generativeai) (1.75.0)\n",
      "Requirement already satisfied: pyparsing<4,>=3.0.4 in e:\\main\\vs code\\langgraph\\lg\\lib\\site-packages (from httplib2<1.0.0,>=0.19.0->google-api-python-client->google-generativeai) (3.2.5)\n",
      "Requirement already satisfied: jsonpointer>=1.9 in e:\\main\\vs code\\langgraph\\lg\\lib\\site-packages (from jsonpatch<2.0,>=1.33->langchain-core<0.4.0,>=0.3.37->langchain-google-genai) (3.0.0)\n",
      "Requirement already satisfied: orjson>=3.9.14 in e:\\main\\vs code\\langgraph\\lg\\lib\\site-packages (from langsmith>=0.3.45->langchain-core<0.4.0,>=0.3.37->langchain-google-genai) (3.11.3)\n",
      "Requirement already satisfied: zstandard>=0.23.0 in e:\\main\\vs code\\langgraph\\lg\\lib\\site-packages (from langsmith>=0.3.45->langchain-core<0.4.0,>=0.3.37->langchain-google-genai) (0.25.0)\n",
      "Requirement already satisfied: requests-toolbelt>=1.0.0 in e:\\main\\vs code\\langgraph\\lg\\lib\\site-packages (from langsmith>=0.3.45->langchain-core<0.4.0,>=0.3.37->langchain-google-genai) (1.0.0)\n",
      "Requirement already satisfied: httpx<1,>=0.23.0 in e:\\main\\vs code\\langgraph\\lg\\lib\\site-packages (from langsmith>=0.3.45->langchain-core<0.4.0,>=0.3.37->langchain-google-genai) (0.28.1)\n",
      "Requirement already satisfied: pyasn1<0.7.0,>=0.6.1 in e:\\main\\vs code\\langgraph\\lg\\lib\\site-packages (from pyasn1-modules>=0.2.1->google-auth>=2.15.0->google-generativeai) (0.6.1)\n",
      "Requirement already satisfied: urllib3<3,>=1.21.1 in e:\\main\\vs code\\langgraph\\lg\\lib\\site-packages (from requests<3.0.0,>=2.18.0->google-api-core->google-generativeai) (2.5.0)\n",
      "Requirement already satisfied: idna<4,>=2.5 in e:\\main\\vs code\\langgraph\\lg\\lib\\site-packages (from requests<3.0.0,>=2.18.0->google-api-core->google-generativeai) (3.10)\n",
      "Requirement already satisfied: certifi>=2017.4.17 in e:\\main\\vs code\\langgraph\\lg\\lib\\site-packages (from requests<3.0.0,>=2.18.0->google-api-core->google-generativeai) (2025.8.3)\n",
      "Requirement already satisfied: charset_normalizer<4,>=2 in e:\\main\\vs code\\langgraph\\lg\\lib\\site-packages (from requests<3.0.0,>=2.18.0->google-api-core->google-generativeai) (3.4.3)\n",
      "Requirement already satisfied: anyio in e:\\main\\vs code\\langgraph\\lg\\lib\\site-packages (from httpx<1,>=0.23.0->langsmith>=0.3.45->langchain-core<0.4.0,>=0.3.37->langchain-google-genai) (4.11.0)\n",
      "Requirement already satisfied: httpcore==1.* in e:\\main\\vs code\\langgraph\\lg\\lib\\site-packages (from httpx<1,>=0.23.0->langsmith>=0.3.45->langchain-core<0.4.0,>=0.3.37->langchain-google-genai) (1.0.9)\n",
      "Requirement already satisfied: h11>=0.16 in e:\\main\\vs code\\langgraph\\lg\\lib\\site-packages (from httpcore==1.*->httpx<1,>=0.23.0->langsmith>=0.3.45->langchain-core<0.4.0,>=0.3.37->langchain-google-genai) (0.16.0)\n",
      "Requirement already satisfied: sniffio>=1.1 in e:\\main\\vs code\\langgraph\\lg\\lib\\site-packages (from anyio->httpx<1,>=0.23.0->langsmith>=0.3.45->langchain-core<0.4.0,>=0.3.37->langchain-google-genai) (1.3.1)\n",
      "Requirement already satisfied: exceptiongroup>=1.0.2 in e:\\main\\vs code\\langgraph\\lg\\lib\\site-packages (from anyio->httpx<1,>=0.23.0->langsmith>=0.3.45->langchain-core<0.4.0,>=0.3.37->langchain-google-genai) (1.3.0)\n"
     ]
    },
    {
     "name": "stderr",
     "output_type": "stream",
     "text": [
      "\n",
      "[notice] A new release of pip is available: 23.0.1 -> 25.2\n",
      "[notice] To update, run: python.exe -m pip install --upgrade pip\n"
     ]
    }
   ],
   "source": [
    "!  pip install langchain-google-genai google-generativeai\n"
   ]
  },
  {
   "cell_type": "code",
   "execution_count": 5,
   "id": "4abe99d6",
   "metadata": {},
   "outputs": [
    {
     "data": {
      "text/plain": [
       "True"
      ]
     },
     "execution_count": 5,
     "metadata": {},
     "output_type": "execute_result"
    }
   ],
   "source": [
    "load_dotenv()\n"
   ]
  },
  {
   "cell_type": "code",
   "execution_count": 6,
   "id": "3d732ea4",
   "metadata": {},
   "outputs": [],
   "source": [
    "model = ChatGoogleGenerativeAI(model=\"gemini-2.5-flash\")"
   ]
  },
  {
   "cell_type": "code",
   "execution_count": 7,
   "id": "595d1707",
   "metadata": {},
   "outputs": [],
   "source": [
    "# create a state\n",
    "\n",
    "class LLMState(TypedDict):\n",
    "\n",
    "    question: str\n",
    "    answer: str"
   ]
  },
  {
   "cell_type": "code",
   "execution_count": 8,
   "id": "6f48a04d",
   "metadata": {},
   "outputs": [],
   "source": [
    "def llm_qa(state: LLMState) -> LLMState:\n",
    "\n",
    "    # extract the question from state\n",
    "    question = state['question']\n",
    "\n",
    "    # form a prompt\n",
    "    prompt = f'Answer the following question {question}'\n",
    "\n",
    "    # ask that question to the LLM\n",
    "    answer = model.invoke(prompt).content\n",
    "\n",
    "    # update the answer in the state\n",
    "    state['answer'] = answer\n",
    "\n",
    "    return state"
   ]
  },
  {
   "cell_type": "code",
   "execution_count": 9,
   "id": "0cd56cd3",
   "metadata": {},
   "outputs": [],
   "source": [
    "# create our graph\n",
    "\n",
    "graph = StateGraph(LLMState)\n",
    "\n",
    "# add nodes\n",
    "graph.add_node('llm_qa', llm_qa)\n",
    "\n",
    "# add edges\n",
    "graph.add_edge(START, 'llm_qa')\n",
    "graph.add_edge('llm_qa', END)\n",
    "\n",
    "# compile\n",
    "workflow = graph.compile()"
   ]
  },
  {
   "cell_type": "code",
   "execution_count": 10,
   "id": "11542604",
   "metadata": {},
   "outputs": [
    {
     "name": "stdout",
     "output_type": "stream",
     "text": [
      "The distance between the Moon and the Earth is not constant, as the Moon orbits the Earth in an elliptical path. However, we can provide an average distance and the range:\n",
      "\n",
      "*   **Average Distance:** Approximately **384,400 kilometers (238,900 miles)**\n",
      "*   **Closest Point (Perigee):** Approximately **363,104 kilometers (225,622 miles)**\n",
      "*   **Farthest Point (Apogee):** Approximately **405,696 kilometers (252,088 miles)**\n",
      "\n",
      "So, for a general answer, the average distance of **384,400 km (238,900 miles)** is usually cited.\n"
     ]
    }
   ],
   "source": [
    "# execute\n",
    "\n",
    "intial_state = {'question': 'How far is moon from the earth?'}\n",
    "\n",
    "final_state = workflow.invoke(intial_state)\n",
    "\n",
    "print(final_state['answer'])\n",
    "\n"
   ]
  },
  {
   "cell_type": "code",
   "execution_count": 11,
   "id": "9d1f9814",
   "metadata": {},
   "outputs": [
    {
     "data": {
      "text/plain": [
       "\"The average distance from the Earth to the Moon is about **384,400 kilometers (238,900 miles)**.\\n\\nHowever, the Moon's orbit isn't perfectly circular, so the actual distance varies:\\n\\n*   **Perigee (closest point):** Approximately 363,104 km (225,623 miles)\\n*   **Apogee (farthest point):** Approximately 405,696 km (252,088 miles)\\n\\nIt takes light about **1.28 seconds** to travel from the Moon to the Earth.\""
      ]
     },
     "execution_count": 11,
     "metadata": {},
     "output_type": "execute_result"
    }
   ],
   "source": [
    "model.invoke('How far is moon from the earth?').content"
   ]
  },
  {
   "cell_type": "code",
   "execution_count": null,
   "id": "7d170d7d",
   "metadata": {},
   "outputs": [],
   "source": []
  }
 ],
 "metadata": {
  "kernelspec": {
   "display_name": "lg",
   "language": "python",
   "name": "python3"
  },
  "language_info": {
   "codemirror_mode": {
    "name": "ipython",
    "version": 3
   },
   "file_extension": ".py",
   "mimetype": "text/x-python",
   "name": "python",
   "nbconvert_exporter": "python",
   "pygments_lexer": "ipython3",
   "version": "3.10.11"
  }
 },
 "nbformat": 4,
 "nbformat_minor": 5
}
