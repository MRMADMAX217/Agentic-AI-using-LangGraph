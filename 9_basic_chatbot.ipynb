{
 "cells": [
  {
   "cell_type": "code",
   "execution_count": 1,
   "id": "e7ba8f9b",
   "metadata": {},
   "outputs": [
    {
     "name": "stderr",
     "output_type": "stream",
     "text": [
      "f:\\MAIN\\VS CODE\\LangGraph\\lg\\lib\\site-packages\\tqdm\\auto.py:21: TqdmWarning: IProgress not found. Please update jupyter and ipywidgets. See https://ipywidgets.readthedocs.io/en/stable/user_install.html\n",
      "  from .autonotebook import tqdm as notebook_tqdm\n"
     ]
    }
   ],
   "source": [
    "from langgraph.graph import StateGraph, START, END\n",
    "from typing import TypedDict, Annotated\n",
    "from langchain_core.messages import BaseMessage, HumanMessage\n",
    "from langchain_google_genai import ChatGoogleGenerativeAI\n",
    "from langgraph.checkpoint.memory import MemorySaver"
   ]
  },
  {
   "cell_type": "code",
   "execution_count": 2,
   "id": "3a1f4f5b",
   "metadata": {},
   "outputs": [],
   "source": [
    "from dotenv import load_dotenv\n",
    "from langgraph.graph.message import add_messages\n",
    "load_dotenv()\n",
    "class ChatState(TypedDict):\n",
    "    messages: Annotated[list[BaseMessage], add_messages]"
   ]
  },
  {
   "cell_type": "code",
   "execution_count": 3,
   "id": "1867b09e",
   "metadata": {},
   "outputs": [],
   "source": [
    "llm = ChatGoogleGenerativeAI(model=\"gemini-2.5-flash\")\n",
    "\n",
    "\n",
    "def chat_node(state: ChatState):\n",
    "\n",
    "    # take user query from state\n",
    "    messages = state['messages']\n",
    "\n",
    "    # send to llm\n",
    "    response = llm.invoke(messages)\n",
    "\n",
    "    # response store state\n",
    "    return {'messages': [response]}"
   ]
  },
  {
   "cell_type": "code",
   "execution_count": 4,
   "id": "fff8f75f",
   "metadata": {},
   "outputs": [],
   "source": [
    "graph = StateGraph(ChatState)\n",
    "\n",
    "checkpoint=MemorySaver()\n",
    "\n",
    "thread_id=1\n",
    "# add nodes\n",
    "graph.add_node('chat_node', chat_node)\n",
    "\n",
    "graph.add_edge(START, 'chat_node')\n",
    "graph.add_edge('chat_node', END)\n",
    "\n",
    "\n",
    "chatbot = graph.compile(checkpointer=checkpoint)  "
   ]
  },
  {
   "cell_type": "code",
   "execution_count": 5,
   "id": "fbe23439",
   "metadata": {},
   "outputs": [
    {
     "data": {
      "image/png": "[encoded data removed]",
      "text/plain": [
       "<langgraph.graph.state.CompiledStateGraph object at 0x0000027561B58340>"
      ]
     },
     "execution_count": 5,
     "metadata": {},
     "output_type": "execute_result"
    }
   ],
   "source": [
    "chatbot"
   ]
  },
  {
   "cell_type": "code",
   "execution_count": 8,
   "id": "0a569f4a",
   "metadata": {},
   "outputs": [
    {
     "name": "stdout",
     "output_type": "stream",
     "text": [
      "User Message:  hi\n",
      "AI: Hi there! How can I help you today?\n",
      "User Message:  my name is mohan\n",
      "AI: Hi Mohan, it's nice to meet you!\n",
      "\n",
      "How can I help you today?\n",
      "User Message:  could you tell my name \n",
      "AI: Yes, your name is Mohan.\n",
      "\n",
      "It's nice to meet you, Mohan! How can I help you today?\n",
      "User Message:  thank  you bye\n",
      "AI: You're welcome, Mohan! Goodbye for now.\n",
      "\n",
      "Feel free to reach out if you need anything else in the future!\n",
      "User Message:  \n",
      "AI: You're welcome, Mohan! Goodbye!\n",
      "User Message:  bye\n"
     ]
    }
   ],
   "source": [
    "thread_id='1'\n",
    "\n",
    "while True:\n",
    "    user_message=input(\"Type Here: \")\n",
    "\n",
    "    print('User Message: ',user_message)\n",
    "\n",
    "    if user_message.strip().lower() in ['exit','quit','bye']:\n",
    "        break\n",
    "    \n",
    "    config = {'configurable':{'thread_id': thread_id}}\n",
    "\n",
    "    response=chatbot.invoke({'messages':[HumanMessage(content=user_message)]},config=config)\n",
    "\n",
    "    print('AI:',response['messages'][-1].content)"
   ]
  },
  {
   "cell_type": "code",
   "execution_count": 9,
   "id": "5a979afe",
   "metadata": {},
   "outputs": [
    {
     "name": "stdout",
     "output_type": "stream",
     "text": [
      "hello hi exit\n",
      "hello hi exit\n"
     ]
    }
   ],
   "source": [
    "s=\"Hello hi exit\"\n",
    "print(s.strip().lower())\n",
    "print(s.lower())"
   ]
  }
 ],
 "metadata": {
  "kernelspec": {
   "display_name": "lg",
   "language": "python",
   "name": "python3"
  },
  "language_info": {
   "codemirror_mode": {
    "name": "ipython",
    "version": 3
   },
   "file_extension": ".py",
   "mimetype": "text/x-python",
   "name": "python",
   "nbconvert_exporter": "python",
   "pygments_lexer": "ipython3",
   "version": "3.10.11"
  }
 },
 "nbformat": 4,
 "nbformat_minor": 5
}
